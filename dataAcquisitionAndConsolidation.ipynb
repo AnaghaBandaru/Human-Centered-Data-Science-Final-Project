{
 "cells": [
  {
   "cell_type": "markdown",
   "metadata": {},
   "source": [
    "## Data Acquisition and Consolidation"
   ]
  },
  {
   "cell_type": "code",
   "execution_count": 510,
   "metadata": {},
   "outputs": [],
   "source": [
    "#Importing Required Libraries\n",
    "import pandas as pd\n",
    "import numpy as np\n",
    "import matplotlib.pyplot as plt\n",
    "import seaborn as sns\n",
    "from functools import reduce\n",
    "import glob"
   ]
  },
  {
   "cell_type": "markdown",
   "metadata": {},
   "source": [
    "## Data Sources\n",
    "\n",
    "### Datasets\n",
    "\n",
    "1. [Unemployment Claims](https://apps.deed.state.mn.us/lmi/ui/Results.aspx?area=R11000&date=202209)\n",
    "3. [Census Data](https://qwiexplorer.ces.census.gov/static/explore.html#x=0&g=0) \n",
    "6. [Covid Transmission](https://catalog.data.gov/dataset/united-states-covid-19-county-level-of-community-transmission-historical-changes)\n",
    "5. [Daily new Cases (Prev)](https://www.kaggle.com/datasets/antgoldbloom/covid19-data-from-john-hopkins-university)\n",
    "6. [Mask Policy (Prev)](https://data.cdc.gov/Policy-Surveillance/U-S-State-and-Territorial-Public-Mask-Mandates-Fro/62d6-pm5i)\n",
    "\n",
    "### Data Shape\n",
    "\n",
    "1. Granularity  :    Monthly (Time). All data is rolled up to the monthly level. This was handled differently for different datasets and is described during the consolidation process. <br><br>\n",
    "2. Region       :    All the data is for the Economic Region R11000 , has the following counties :\n",
    "- Anoka County  <br>\n",
    "- Carver County\t <br>\n",
    "- Dakota County\t <br>\n",
    "- Hennepin County\t <br>\n",
    "- Ramsey County\t <br>\n",
    "- Scott County\t\t <br>\n",
    "- Washington Count <br><br>"
   ]
  },
  {
   "cell_type": "markdown",
   "metadata": {},
   "source": [
    "## Data Acquisition"
   ]
  },
  {
   "cell_type": "markdown",
   "metadata": {},
   "source": [
    "### 1. Unemployment Claims Data\n"
   ]
  },
  {
   "cell_type": "code",
   "execution_count": 511,
   "metadata": {},
   "outputs": [
    {
     "name": "stdout",
     "output_type": "stream",
     "text": [
      "Dataframe names :  ['ethnicity', 'sex', 'race']\n"
     ]
    }
   ],
   "source": [
    "def get_claims(folder,str): #name of sub-folder and the \n",
    "    \"\"\"\n",
    "    Constructs dataframe by concatenating all the csv's from a specified folder for demographics and industries. \n",
    "\n",
    "    Parameters\n",
    "    ----------\n",
    "        folder : str\n",
    "            name of the folder with the needed csv files\n",
    "        str : str\n",
    "            name of the column for the joined category (eg 'sex' for male and female categories)\n",
    "\n",
    "    Returns\n",
    "    -------\n",
    "        df : pandas Datafram\n",
    "            Final dataframe schema with required values for analysis \n",
    "            Columns:\n",
    "                Name: year, dtype: int64\n",
    "                Name: month, dtype: int64\n",
    "                Name: {str}, dtype: object\n",
    "                Name: claims, dtype: float64\n",
    "    \"\"\"\n",
    "    files = glob.glob(folder+\"/*.csv\") \n",
    "    df = pd.DataFrame()\n",
    "    for f in files: \n",
    "        csv = pd.read_csv(f)\n",
    "        #appending the dataframes (Eg: Generating Dataframe 'sex' by appending male.csv and female.csv)\n",
    "        df = pd.concat([df,csv]) \n",
    "    #dropping unnecessary columns\n",
    "    cols_remove = [i for i in df.columns if i not in ['periodyear','period','Current','dim_title']] \n",
    "    df.drop(columns=cols_remove,inplace=True) \n",
    "    #Filtering data for 2020-2022\n",
    "    ind = df[df.periodyear<=2019].index \n",
    "    df.drop(index=ind,inplace=True) \n",
    "    #Each year has an aggregated value for all months with period type 1, values at monthly level have periodtype 3. Removing aggregated values\n",
    "    ind = df[df.period==0].index \n",
    "    df.drop(index=ind,inplace=True) \n",
    "    #renaming columns intuitively\n",
    "    df.rename(columns={'periodyear':'year','period':'month','dim_title':str,'Current':'claims'},inplace=True) \n",
    "    \n",
    "    return df\n",
    "\n",
    "#for every sub-folder in demographics, calling the get_claims() function\n",
    "files = glob.glob(\"data/raw/demographics/*\")\n",
    "names = [i[22:] for i in files]\n",
    "d = {\n",
    "    name : get_claims(file,file[22:]) for name, file in zip(names, files)\n",
    "}\n",
    "\n",
    "#converting dictionary of dataframes into separate dataframes with the printed names \n",
    "print('Dataframe names : ',names)\n",
    "for k in d.keys():\n",
    "    exec(f\"{k} = d['{k}']\")\n",
    "\n",
    "#getting the claims at an industry level as well\n",
    "industry = get_claims('data/raw/industry_unemployment','industry')\n"
   ]
  },
  {
   "cell_type": "markdown",
   "metadata": {},
   "source": [
    "### 2. Covid Transmission Data"
   ]
  },
  {
   "cell_type": "code",
   "execution_count": 512,
   "metadata": {},
   "outputs": [
    {
     "name": "stdout",
     "output_type": "stream",
     "text": [
      "(7000, 7)\n"
     ]
    },
    {
     "data": {
      "text/plain": [
       "county_name                                             0\n",
       "date                                                    0\n",
       "cases_per_100K_7_day_count_change                       0\n",
       "percent_test_results_reported_positive_last_7_days    512\n",
       "community_transmission_level                           49\n",
       "dtype: int64"
      ]
     },
     "execution_count": 512,
     "metadata": {},
     "output_type": "execute_result"
    }
   ],
   "source": [
    "transmission = pd.read_csv('data/raw/United_States_COVID-19_County_Level_of_Community_Transmission_Historical_Changes_-_ARCHIVED.csv')\n",
    "#Filtering data for the Economic Region R11000\n",
    "transmission = transmission.loc[(transmission.county_name.isin(['Anoka County','Carver County','Dakota County','Hennepin County','Ramsey County','Scott County','Washington County'])) & (transmission.state_name=='Minnesota'),:] \n",
    "print(transmission.shape) #new shape\n",
    "#Removing Unnecessary Columns\n",
    "transmission.drop(columns=['state_name','fips_code'],inplace=True) \n",
    "transmission.isna().sum() #null values"
   ]
  },
  {
   "cell_type": "markdown",
   "metadata": {},
   "source": [
    "### 3. Loading Common Analysis data that contained Mask Policy and daily cases"
   ]
  },
  {
   "cell_type": "code",
   "execution_count": 513,
   "metadata": {},
   "outputs": [
    {
     "data": {
      "text/html": [
       "<div>\n",
       "<style scoped>\n",
       "    .dataframe tbody tr th:only-of-type {\n",
       "        vertical-align: middle;\n",
       "    }\n",
       "\n",
       "    .dataframe tbody tr th {\n",
       "        vertical-align: top;\n",
       "    }\n",
       "\n",
       "    .dataframe thead th {\n",
       "        text-align: right;\n",
       "    }\n",
       "</style>\n",
       "<table border=\"1\" class=\"dataframe\">\n",
       "  <thead>\n",
       "    <tr style=\"text-align: right;\">\n",
       "      <th></th>\n",
       "      <th>days</th>\n",
       "      <th>date</th>\n",
       "      <th>cases</th>\n",
       "      <th>daily_cases</th>\n",
       "      <th>slope</th>\n",
       "      <th>14_day_avg</th>\n",
       "      <th>new_cases14</th>\n",
       "      <th>slope14</th>\n",
       "      <th>masks</th>\n",
       "    </tr>\n",
       "  </thead>\n",
       "  <tbody>\n",
       "    <tr>\n",
       "      <th>1008</th>\n",
       "      <td>1008</td>\n",
       "      <td>2022-10-26</td>\n",
       "      <td>912211</td>\n",
       "      <td>0.0</td>\n",
       "      <td>0.0</td>\n",
       "      <td>910921.0</td>\n",
       "      <td>394.0</td>\n",
       "      <td>0.0</td>\n",
       "      <td>0.0</td>\n",
       "    </tr>\n",
       "    <tr>\n",
       "      <th>1009</th>\n",
       "      <td>1009</td>\n",
       "      <td>2022-10-27</td>\n",
       "      <td>914746</td>\n",
       "      <td>2535.0</td>\n",
       "      <td>2535.0</td>\n",
       "      <td>911286.0</td>\n",
       "      <td>365.0</td>\n",
       "      <td>-29.0</td>\n",
       "      <td>0.0</td>\n",
       "    </tr>\n",
       "    <tr>\n",
       "      <th>1010</th>\n",
       "      <td>1010</td>\n",
       "      <td>2022-10-28</td>\n",
       "      <td>914746</td>\n",
       "      <td>0.0</td>\n",
       "      <td>-2535.0</td>\n",
       "      <td>911652.0</td>\n",
       "      <td>366.0</td>\n",
       "      <td>1.0</td>\n",
       "      <td>0.0</td>\n",
       "    </tr>\n",
       "  </tbody>\n",
       "</table>\n",
       "</div>"
      ],
      "text/plain": [
       "      days       date   cases  daily_cases   slope  14_day_avg  new_cases14  \\\n",
       "1008  1008 2022-10-26  912211          0.0     0.0    910921.0        394.0   \n",
       "1009  1009 2022-10-27  914746       2535.0  2535.0    911286.0        365.0   \n",
       "1010  1010 2022-10-28  914746          0.0 -2535.0    911652.0        366.0   \n",
       "\n",
       "      slope14  masks  \n",
       "1008      0.0    0.0  \n",
       "1009    -29.0    0.0  \n",
       "1010      1.0    0.0  "
      ]
     },
     "execution_count": 513,
     "metadata": {},
     "output_type": "execute_result"
    }
   ],
   "source": [
    "prev_df = pd.read_csv('data/raw/prevDataset.csv')\n",
    "prev_df.drop(columns='Unnamed: 0',inplace=True)\n",
    "prev_df.date = pd.to_datetime(prev_df.date)\n",
    "# prev_df['masks'] = prev_df['masks'].astype('category')\n",
    "prev_df.tail(3)"
   ]
  },
  {
   "cell_type": "markdown",
   "metadata": {},
   "source": [
    "### 4. Loading Census Data"
   ]
  },
  {
   "cell_type": "code",
   "execution_count": 514,
   "metadata": {},
   "outputs": [],
   "source": [
    "files = glob.glob('data/raw/census'+\"/*.xlsx\") \n",
    "a= pd.DataFrame()\n",
    "for f in files :\n",
    "    df= pd.read_excel(f)\n",
    "    df.drop(columns=[x for x in df.columns if x.endswith('Flags')],inplace=True)\n",
    "    df[['year','quarter']] = df['Unnamed: 0'].str.split(' ',expand=True)\n",
    "    df.drop(columns='Unnamed: 0',inplace=True)\n",
    "    df = df.loc[df.year.isin(['2020','2021','2022']),:]\n",
    "    df.reset_index(inplace=True,drop=True)\n",
    "    if f == files[0]:\n",
    "        a = df.copy()\n",
    "    else : \n",
    "        a = pd.merge(a,df,on=['year','quarter'])\n"
   ]
  },
  {
   "cell_type": "code",
   "execution_count": 515,
   "metadata": {},
   "outputs": [],
   "source": [
    "a.drop(columns='quarter',inplace=True)\n",
    "a = a.groupby('year').mean()\n",
    "a.reset_index(inplace=True)\n",
    "a.year=a.year.astype('int64')\n",
    "a.columns = a.columns.str.lower()\n",
    "a.columns = a.columns.str.replace('alone','')\n",
    "a.columns = a.columns.str.strip()\n",
    "a.columns = a.columns.str.replace(' ','_')\n",
    "a['total_claims'] = a.male + a.female\n",
    "a.rename(columns={'administrative_and_support_and_waste_management_and_remediation_services':'administrative_and_waste_services','mining,_quarrying,_and_oil_and_gas_extraction':'mining'},inplace=True)\n",
    "a.drop(columns='public_administration',inplace=True)"
   ]
  },
  {
   "cell_type": "markdown",
   "metadata": {},
   "source": [
    "### Changing Data Format for Consolidation"
   ]
  },
  {
   "cell_type": "code",
   "execution_count": 516,
   "metadata": {},
   "outputs": [],
   "source": [
    "def pivot_df(df):\n",
    "    \"\"\"\n",
    "    Extracts relevant columns, applies basic data cleaning and pivots dataframe to combine all unemployment claims data into a file\n",
    "\n",
    "    Parameters\n",
    "    ----------\n",
    "        df : pandas DataFrame\n",
    "            Dataframe to be pivoted\n",
    "\n",
    "    Returns\n",
    "    -------\n",
    "        df : pandas Datafram\n",
    "            Final pivoted dataframe schema with required values for analysis \n",
    "\n",
    "    \"\"\"\n",
    "    rel_cols = [i for i in df.columns if i not in ['year','month','claims']]\n",
    "    df[rel_cols[0]] = df[rel_cols[0]].str.lower()\n",
    "    df[rel_cols[0]] = df[rel_cols[0]].str.strip()\n",
    "    df[rel_cols[0]] = df[rel_cols[0]].str.replace(' ','_')\n",
    "    pivot_table = df.pivot(columns=rel_cols,values='claims',index=['year','month'])\n",
    "    pivot_table.reset_index(inplace=True)\n",
    "    pivot_table.columns.name=None\n",
    "    return pivot_table"
   ]
  },
  {
   "cell_type": "code",
   "execution_count": 517,
   "metadata": {},
   "outputs": [],
   "source": [
    "#Pivoting all unemployment claims data\n",
    "pivot_sex = pivot_df(sex)\n",
    "pivot_race = pivot_df(race)\n",
    "pivot_ethnicity = pivot_df(ethnicity)\n",
    "pivot_industry = pivot_df(industry)"
   ]
  },
  {
   "cell_type": "code",
   "execution_count": 518,
   "metadata": {},
   "outputs": [
    {
     "name": "stderr",
     "output_type": "stream",
     "text": [
      "/var/folders/d6/y9k8fd5d2r36cln9ssdj6kqw0000gn/T/ipykernel_69926/4195800496.py:19: SettingWithCopyWarning: \n",
      "A value is trying to be set on a copy of a slice from a DataFrame\n",
      "\n",
      "See the caveats in the documentation: https://pandas.pydata.org/pandas-docs/stable/user_guide/indexing.html#returning-a-view-versus-a-copy\n",
      "  monthly_cases['monthly_change_cases'].iloc[0]=monthly_cases['monthly_change_cases'].iloc[0]\n",
      "/var/folders/d6/y9k8fd5d2r36cln9ssdj6kqw0000gn/T/ipykernel_69926/4195800496.py:22: SettingWithCopyWarning: \n",
      "A value is trying to be set on a copy of a slice from a DataFrame\n",
      "\n",
      "See the caveats in the documentation: https://pandas.pydata.org/pandas-docs/stable/user_guide/indexing.html#returning-a-view-versus-a-copy\n",
      "  monthly_cases['monthly_rate_of_change_cases'].iloc[0]=monthly_cases['monthly_rate_of_change_cases'].iloc[0]\n"
     ]
    }
   ],
   "source": [
    "#Cleaning up the data from the common analysis as it was performed at a daily level and now the data has been rolled up to a monthly level\n",
    "\n",
    "#Getting relevant columns\n",
    "prev_df = prev_df.loc[:,['date','cases','masks']]\n",
    "\n",
    "#Extracting month and year\n",
    "prev_df['year']=prev_df.date.dt.year\n",
    "prev_df['month']=prev_df.date.dt.month\n",
    "\n",
    "#Aggregating cases monthly by taking the sum\n",
    "monthly_cases = pd.DataFrame(prev_df.groupby(['year','month'])['cases'].sum())\n",
    "monthly_cases.reset_index(inplace=True)\n",
    "\n",
    "#Rolling up mask policy to monthly level (if mask policy was in effect for a majority of the month then mask policy is in effect)\n",
    "mask_policy_monthly = pd.DataFrame(prev_df.groupby(['year','month'])['masks'].max())\n",
    "mask_policy_monthly.reset_index(inplace=True)\n",
    "#Calculating the change in cases monthly\n",
    "monthly_cases['monthly_change_cases'] = monthly_cases['cases'].sub(monthly_cases['cases'].shift())\n",
    "monthly_cases['monthly_change_cases'].iloc[0]=monthly_cases['monthly_change_cases'].iloc[0]\n",
    "#Calculating the change in the new cases monthly (rate of change of monthly new cases)\n",
    "monthly_cases['monthly_rate_of_change_cases'] = monthly_cases['monthly_change_cases'].sub(monthly_cases['monthly_change_cases'].shift())\n",
    "monthly_cases['monthly_rate_of_change_cases'].iloc[0]=monthly_cases['monthly_rate_of_change_cases'].iloc[0]"
   ]
  },
  {
   "cell_type": "code",
   "execution_count": 519,
   "metadata": {},
   "outputs": [],
   "source": [
    "#Cleaning up Transmission Data\n",
    "\n",
    "#Extracting date and storing month and year\n",
    "transmission.date = pd.to_datetime(transmission.date)\n",
    "transmission['month'] = transmission.date.dt.month\n",
    "transmission['year'] = transmission.date.dt.year\n",
    "\n",
    "#Transmission levels are provided at a daily granularity, hence I am rolling it up to the monhtly level by taking mode \n",
    "#(if most days of the month were high transmission then that month is considered as high transmission )\n",
    "pivot_transmission = pd.DataFrame(transmission.groupby(['year','month'])['community_transmission_level'].agg(pd.Series.mode))\n",
    "pivot_transmission.reset_index(inplace=True)"
   ]
  },
  {
   "cell_type": "markdown",
   "metadata": {},
   "source": [
    "### Data Consolidation"
   ]
  },
  {
   "cell_type": "code",
   "execution_count": 520,
   "metadata": {},
   "outputs": [],
   "source": [
    "#All datasets to combine\n",
    "data_frames = [pivot_sex, pivot_race, pivot_ethnicity, pivot_industry,pivot_transmission,mask_policy_monthly,monthly_cases]\n",
    "df_combined = reduce(lambda  left,right: pd.merge(left,right,on=['year','month'],), data_frames)\n",
    "df_combined.drop(columns=['ethnicity_unknown','race_unknown','unclassified','public_administration','utilities'],inplace=True)\n",
    "df_combined.rename(columns={'black_or_african_american,':'black_or_african_american','native_hawaiian/pacific_islander':'native_hawaiian_or_other_pacific_islander','other_services,_ex._public_admin':'other_services_(except_public_administration)','professional_and_technical_services':'professional,_scientific,_and_technical_services','agriculture,_forestry,_fishing_&_hunting':'agriculture,_forestry,_fishing_and_hunting'},inplace=True)"
   ]
  },
  {
   "cell_type": "code",
   "execution_count": 521,
   "metadata": {},
   "outputs": [],
   "source": [
    "#Standardizing all claims data using the corresponding population of groups\n",
    "no_cols = list(set(df_combined.columns)-set(a.columns))\n",
    "no_cols.append('year')\n",
    "no_cols\n",
    "a.columns = a.columns+'_census'\n",
    "a.rename(columns={'year_census':'year'},inplace=True)\n",
    "df_combined = df_combined.merge(a,on='year',how='left')\n",
    "for i in list(set(df_combined.columns)-set(no_cols)-set(a.columns)):\n",
    "    df_combined[i] = df_combined[i]/df_combined[i+'_census']\n",
    "df_combined.drop(columns=[i for i in a.columns if i != 'year'],inplace=True)"
   ]
  },
  {
   "cell_type": "code",
   "execution_count": 522,
   "metadata": {},
   "outputs": [],
   "source": [
    "#Saving the consolidated dataset\n",
    "df_combined.to_csv('data/consolidated/consolidatedDataset.csv',index=False)"
   ]
  },
  {
   "cell_type": "markdown",
   "metadata": {},
   "source": [
    "### Schema of the final Data Frame\n",
    "1. Time colums : 'year' , 'month' (2)\n",
    "2. Claims Data(41)\n",
    "    - sex : 'female', 'male' (2)\n",
    "    - race : 'american_indian_or_alaska_native','asian', 'black_or_african_american,','native_hawaiian/pacific_islander', 'race_unknown', 'white'(8)\n",
    "    - ethnicity : 'ethnicity_unknown', 'hispanic_or_latino','not_hispanic_or_latino'(3)\n",
    "    - industry : 'accommodation_and_food_services',\n",
    "       'administrative_and_waste_services',\n",
    "       'agriculture,_forestry,_fishing_&_hunting',\n",
    "       'arts,_entertainment,_and_recreation', 'construction',\n",
    "       'educational_services', 'finance_and_insurance',\n",
    "       'health_care_and_social_assistance', 'information',\n",
    "       'management_of_companies_and_enterprises', 'manufacturing', 'mining',\n",
    "       'other_services,_ex._public_admin',\n",
    "       'professional_and_technical_services', 'public_administration',\n",
    "       'real_estate_and_rental_and_leasing', 'retail_trade', 'total_claims',\n",
    "       'transportation_and_warehousing', 'unclassified', 'utilities',\n",
    "       'wholesale_trade'\n",
    "        (22)\n",
    "3. Community Transmission Level : 'community_transmission_level' (1)\n",
    "5. mask policy data : 'masks'(1)\n",
    "6. cases : 'cases', 'monthly_change_cases',\n",
    "       'monthly_rate_of_change_cases' (3)"
   ]
  }
 ],
 "metadata": {
  "kernelspec": {
   "display_name": "Python 3.8.8 ('base')",
   "language": "python",
   "name": "python3"
  },
  "language_info": {
   "codemirror_mode": {
    "name": "ipython",
    "version": 3
   },
   "file_extension": ".py",
   "mimetype": "text/x-python",
   "name": "python",
   "nbconvert_exporter": "python",
   "pygments_lexer": "ipython3",
   "version": "3.8.8"
  },
  "orig_nbformat": 4,
  "vscode": {
   "interpreter": {
    "hash": "40727c13fb29f1324c389260642c1ee61a0e46c87295fc678aabef6fe007e7fc"
   }
  }
 },
 "nbformat": 4,
 "nbformat_minor": 2
}
